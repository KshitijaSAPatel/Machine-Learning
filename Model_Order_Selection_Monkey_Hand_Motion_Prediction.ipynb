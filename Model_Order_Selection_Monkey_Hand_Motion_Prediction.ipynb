{
  "nbformat": 4,
  "nbformat_minor": 0,
  "metadata": {
    "kernelspec": {
      "display_name": "Python 3",
      "language": "python",
      "name": "python3"
    },
    "language_info": {
      "codemirror_mode": {
        "name": "ipython",
        "version": 3
      },
      "file_extension": ".py",
      "mimetype": "text/x-python",
      "name": "python",
      "nbconvert_exporter": "python",
      "pygments_lexer": "ipython3",
      "version": "3.7.4"
    },
    "colab": {
      "name": "Model Order Selection - Monkey Hand Motion Prediction.ipynb",
      "provenance": [],
      "collapsed_sections": []
    },
    "widgets": {
      "application/vnd.jupyter.widget-state+json": {
        "40248c11e78748e180b8988e49b8c8ef": {
          "model_module": "@jupyter-widgets/controls",
          "model_name": "HBoxModel",
          "state": {
            "_view_name": "HBoxView",
            "_dom_classes": [],
            "_model_name": "HBoxModel",
            "_view_module": "@jupyter-widgets/controls",
            "_model_module_version": "1.5.0",
            "_view_count": null,
            "_view_module_version": "1.5.0",
            "box_style": "",
            "layout": "IPY_MODEL_4777a4ce7e664f4db726d20405c0b8c0",
            "_model_module": "@jupyter-widgets/controls",
            "children": [
              "IPY_MODEL_db8ef009ad4e49369b6566f0a4f4918c",
              "IPY_MODEL_a242f54cc45f4a45971f3020ee96ccfe"
            ]
          }
        },
        "4777a4ce7e664f4db726d20405c0b8c0": {
          "model_module": "@jupyter-widgets/base",
          "model_name": "LayoutModel",
          "state": {
            "_view_name": "LayoutView",
            "grid_template_rows": null,
            "right": null,
            "justify_content": null,
            "_view_module": "@jupyter-widgets/base",
            "overflow": null,
            "_model_module_version": "1.2.0",
            "_view_count": null,
            "flex_flow": null,
            "width": null,
            "min_width": null,
            "border": null,
            "align_items": null,
            "bottom": null,
            "_model_module": "@jupyter-widgets/base",
            "top": null,
            "grid_column": null,
            "overflow_y": null,
            "overflow_x": null,
            "grid_auto_flow": null,
            "grid_area": null,
            "grid_template_columns": null,
            "flex": null,
            "_model_name": "LayoutModel",
            "justify_items": null,
            "grid_row": null,
            "max_height": null,
            "align_content": null,
            "visibility": null,
            "align_self": null,
            "height": null,
            "min_height": null,
            "padding": null,
            "grid_auto_rows": null,
            "grid_gap": null,
            "max_width": null,
            "order": null,
            "_view_module_version": "1.2.0",
            "grid_template_areas": null,
            "object_position": null,
            "object_fit": null,
            "grid_auto_columns": null,
            "margin": null,
            "display": null,
            "left": null
          }
        },
        "db8ef009ad4e49369b6566f0a4f4918c": {
          "model_module": "@jupyter-widgets/controls",
          "model_name": "FloatProgressModel",
          "state": {
            "_view_name": "ProgressView",
            "style": "IPY_MODEL_810a98052d22433f9799650eed9ce520",
            "_dom_classes": [],
            "description": "Model order test: 100%",
            "_model_name": "FloatProgressModel",
            "bar_style": "success",
            "max": 80,
            "_view_module": "@jupyter-widgets/controls",
            "_model_module_version": "1.5.0",
            "value": 80,
            "_view_count": null,
            "_view_module_version": "1.5.0",
            "orientation": "horizontal",
            "min": 0,
            "description_tooltip": null,
            "_model_module": "@jupyter-widgets/controls",
            "layout": "IPY_MODEL_6cde9de0c33c4833bb76f653d99c6d5b"
          }
        },
        "a242f54cc45f4a45971f3020ee96ccfe": {
          "model_module": "@jupyter-widgets/controls",
          "model_name": "HTMLModel",
          "state": {
            "_view_name": "HTMLView",
            "style": "IPY_MODEL_af90cd0e64a3405895232515f770ee6b",
            "_dom_classes": [],
            "description": "",
            "_model_name": "HTMLModel",
            "placeholder": "​",
            "_view_module": "@jupyter-widgets/controls",
            "_model_module_version": "1.5.0",
            "value": " 80/80 [00:29&lt;00:00,  2.73fits/s]",
            "_view_count": null,
            "_view_module_version": "1.5.0",
            "description_tooltip": null,
            "_model_module": "@jupyter-widgets/controls",
            "layout": "IPY_MODEL_1c6001d488b0433687a4ebb02da15675"
          }
        },
        "810a98052d22433f9799650eed9ce520": {
          "model_module": "@jupyter-widgets/controls",
          "model_name": "ProgressStyleModel",
          "state": {
            "_view_name": "StyleView",
            "_model_name": "ProgressStyleModel",
            "description_width": "initial",
            "_view_module": "@jupyter-widgets/base",
            "_model_module_version": "1.5.0",
            "_view_count": null,
            "_view_module_version": "1.2.0",
            "bar_color": null,
            "_model_module": "@jupyter-widgets/controls"
          }
        },
        "6cde9de0c33c4833bb76f653d99c6d5b": {
          "model_module": "@jupyter-widgets/base",
          "model_name": "LayoutModel",
          "state": {
            "_view_name": "LayoutView",
            "grid_template_rows": null,
            "right": null,
            "justify_content": null,
            "_view_module": "@jupyter-widgets/base",
            "overflow": null,
            "_model_module_version": "1.2.0",
            "_view_count": null,
            "flex_flow": null,
            "width": null,
            "min_width": null,
            "border": null,
            "align_items": null,
            "bottom": null,
            "_model_module": "@jupyter-widgets/base",
            "top": null,
            "grid_column": null,
            "overflow_y": null,
            "overflow_x": null,
            "grid_auto_flow": null,
            "grid_area": null,
            "grid_template_columns": null,
            "flex": null,
            "_model_name": "LayoutModel",
            "justify_items": null,
            "grid_row": null,
            "max_height": null,
            "align_content": null,
            "visibility": null,
            "align_self": null,
            "height": null,
            "min_height": null,
            "padding": null,
            "grid_auto_rows": null,
            "grid_gap": null,
            "max_width": null,
            "order": null,
            "_view_module_version": "1.2.0",
            "grid_template_areas": null,
            "object_position": null,
            "object_fit": null,
            "grid_auto_columns": null,
            "margin": null,
            "display": null,
            "left": null
          }
        },
        "af90cd0e64a3405895232515f770ee6b": {
          "model_module": "@jupyter-widgets/controls",
          "model_name": "DescriptionStyleModel",
          "state": {
            "_view_name": "StyleView",
            "_model_name": "DescriptionStyleModel",
            "description_width": "",
            "_view_module": "@jupyter-widgets/base",
            "_model_module_version": "1.5.0",
            "_view_count": null,
            "_view_module_version": "1.2.0",
            "_model_module": "@jupyter-widgets/controls"
          }
        },
        "1c6001d488b0433687a4ebb02da15675": {
          "model_module": "@jupyter-widgets/base",
          "model_name": "LayoutModel",
          "state": {
            "_view_name": "LayoutView",
            "grid_template_rows": null,
            "right": null,
            "justify_content": null,
            "_view_module": "@jupyter-widgets/base",
            "overflow": null,
            "_model_module_version": "1.2.0",
            "_view_count": null,
            "flex_flow": null,
            "width": null,
            "min_width": null,
            "border": null,
            "align_items": null,
            "bottom": null,
            "_model_module": "@jupyter-widgets/base",
            "top": null,
            "grid_column": null,
            "overflow_y": null,
            "overflow_x": null,
            "grid_auto_flow": null,
            "grid_area": null,
            "grid_template_columns": null,
            "flex": null,
            "_model_name": "LayoutModel",
            "justify_items": null,
            "grid_row": null,
            "max_height": null,
            "align_content": null,
            "visibility": null,
            "align_self": null,
            "height": null,
            "min_height": null,
            "padding": null,
            "grid_auto_rows": null,
            "grid_gap": null,
            "max_width": null,
            "order": null,
            "_view_module_version": "1.2.0",
            "grid_template_areas": null,
            "object_position": null,
            "object_fit": null,
            "grid_auto_columns": null,
            "margin": null,
            "display": null,
            "left": null
          }
        }
      }
    }
  },
  "cells": [
    {
      "cell_type": "markdown",
      "metadata": {
        "id": "_CQ7jjiz4LHU"
      },
      "source": [
        "## Loading the data\n",
        "\n",
        "The data in this lab comes from neural recordings described in:\n",
        "\n",
        "<a href=\"http://jn.physiology.org/content/106/2/764.short\">\n",
        "Stevenson, Ian H., et al. \"Statistical assessment of the stability of neural movement representations.\" Journal of neurophysiology 106.2 (2011): 764-774</a>\n",
        "\n",
        "In this experiment, the spikes were recorded from 196 neurons in the primary motor cortex (M1) of a monkey using an electrode array implanted onto the surface of a monkey's brain.  During the recording, the monkey performed several reaching tasks and the position and velocity of the hand was recorded as well.  \n",
        "\n",
        "I try to predict the hand motion from the neural signals from the motor cortex."
      ]
    },
    {
      "cell_type": "code",
      "metadata": {
        "id": "KGgSgmNA4LHU"
      },
      "source": [
        "import numpy as np\n",
        "import matplotlib.pyplot as plt\n",
        "import pickle\n",
        "\n",
        "from sklearn.linear_model import LinearRegression\n",
        "from sklearn.metrics import r2_score"
      ],
      "execution_count": null,
      "outputs": []
    },
    {
      "cell_type": "code",
      "metadata": {
        "id": "fUWtccNh4LHV"
      },
      "source": [
        "fn_src = 'https://www.dropbox.com/sh/n4924ipcfjqc0t6/AADOv9JYMUBK1tlg9P71gSSra/example_data_s1.pickle?dl=1'\n",
        "fn_dst = 'example_data_s1.pickle'\n",
        "\n",
        "import os\n",
        "from six.moves import urllib\n",
        "\n",
        "if os.path.isfile(fn_dst):\n",
        "    print('File %s is already downloaded' % fn_dst)\n",
        "else:        \n",
        "    urllib.request.urlretrieve(fn_src, fn_dst)"
      ],
      "execution_count": null,
      "outputs": []
    },
    {
      "cell_type": "code",
      "metadata": {
        "id": "Q5lTcWPD4LHV"
      },
      "source": [
        "with open('example_data_s1.pickle', 'rb') as fp:\n",
        "    X,y = pickle.load(fp)"
      ],
      "execution_count": null,
      "outputs": []
    },
    {
      "cell_type": "markdown",
      "metadata": {
        "id": "-aAYZdIw4LHW"
      },
      "source": [
        "The matrix `X` is matrix of spike counts where `X[i,j]` is the number of spikes from neuron `j` in time bin `i`.\n",
        "The matrix `y` has two columns:\n",
        "* `y[i,0] = ` velocity of the monkey's hand in the x-direction\n",
        "* `y[i,1] = ` velocity of the monkey's hand in the y-direction\n",
        "  "
      ]
    },
    {
      "cell_type": "code",
      "metadata": {
        "colab": {
          "base_uri": "https://localhost:8080/"
        },
        "id": "O1cJ8sXm4LHW",
        "outputId": "eda111b2-ee8a-4d98-ae89-df625577e537"
      },
      "source": [
        "tsamp = 0.05  \n",
        "\n",
        "nt = X.shape[0]\n",
        "nneuron = X.shape[1]\n",
        "nout = y.shape[1]\n",
        "ttotal = y.shape[0] * tsamp\n",
        "\n",
        "print(\"Total number of time bins : {}\".format(nt))\n",
        "print(\"Total number of neurons : {}\".format(nneuron))\n",
        "print(\"Total number of output variables to track : y : {}\".format(nout))\n",
        "print(\"Total time of the experiment in seconds : {} seconds\".format(ttotal))"
      ],
      "execution_count": null,
      "outputs": [
        {
          "output_type": "stream",
          "text": [
            "Total number of time bins : 61339\n",
            "Total number of neurons : 52\n",
            "Total number of output variables to track : y : 2\n",
            "Total time of the experiment in seconds : 3066.9500000000003 seconds\n"
          ],
          "name": "stdout"
        }
      ]
    },
    {
      "cell_type": "markdown",
      "metadata": {
        "id": "Aum3eAjr4LHW"
      },
      "source": [
        "## Fitting a Memoryless Linear Model\n",
        "\n",
        "Trying a simple linear regression model to fit the data."
      ]
    },
    {
      "cell_type": "code",
      "metadata": {
        "id": "qDT_lO0J4LHW"
      },
      "source": [
        "from sklearn.model_selection import train_test_split\n",
        "\n",
        "Xtr, Xts, ytr, yts = train_test_split(X, y, test_size = 0.33)"
      ],
      "execution_count": null,
      "outputs": []
    },
    {
      "cell_type": "code",
      "metadata": {
        "colab": {
          "base_uri": "https://localhost:8080/"
        },
        "id": "ohk-bqJ54LHX",
        "outputId": "4ecbffbb-2f43-4087-ea2e-699add0d4edf"
      },
      "source": [
        "regression = LinearRegression()\n",
        "regression.fit(Xtr, ytr)\n",
        "yhat = regression.predict(Xts)\n",
        "rsq = r2_score(yts, yhat)\n",
        "print(\"R^2 score : {}\".format(rsq))"
      ],
      "execution_count": null,
      "outputs": [
        {
          "output_type": "stream",
          "text": [
            "R^2 score : 0.4687054390950162\n"
          ],
          "name": "stdout"
        }
      ]
    },
    {
      "cell_type": "code",
      "metadata": {
        "colab": {
          "base_uri": "https://localhost:8080/",
          "height": 294
        },
        "id": "b0pjaBDm4LHX",
        "outputId": "f202e69d-6ba0-4161-a0ac-99b5a49b73c4"
      },
      "source": [
        "plt.figure(figsize = (8, 4))\n",
        "plt.subplot(1, 2, 1)\n",
        "plt.plot(yhat[:, 0], yts[:, 0], 'o')\n",
        "plt.xlabel(\"Predicted velocity of hand in X direction\")\n",
        "plt.ylabel(\"True velocity of hand in X direction\")\n",
        "\n",
        "plt.subplot(1, 2, 2)\n",
        "plt.plot(yhat[:, 1], yts[:, 1], 'o')\n",
        "plt.xlabel(\"Predicted velocity of hand in Y direction\")\n",
        "plt.ylabel(\"True velocity of hand in Y direction\")"
      ],
      "execution_count": null,
      "outputs": [
        {
          "output_type": "execute_result",
          "data": {
            "text/plain": [
              "Text(0, 0.5, 'True velocity of hand in Y direction')"
            ]
          },
          "metadata": {
            "tags": []
          },
          "execution_count": 8
        },
        {
          "output_type": "display_data",
          "data": {
            "image/png": "[encoded data removed]",
            "text/plain": [
              "<Figure size 576x288 with 2 Axes>"
            ]
          },
          "metadata": {
            "tags": [],
            "needs_background": "light"
          }
        }
      ]
    },
    {
      "cell_type": "markdown",
      "metadata": {
        "id": "xFCL0AmY4LHY"
      },
      "source": [
        "## Fitting Models with Delay\n",
        "\n",
        "One way we can improve the model accuracy is to used delayed version of the features.  Specifically, the model we used above mapped the features \n",
        "\n",
        "    yhat[i,k] = \\sum_{j=0}^{p-1} X[i,j]*w[j,k] + b[k]\n",
        "    \n",
        "where `p` is the number of features and `w[j,k]` is a matrix of coefficients.  In this model,  `yhat[i,:]` at time `i` was only dependent on the inputs  `X[i,:]` at time `i`.  In signal processing, this is called a *memoryless* model.  However, in many physical systems, such as those that arise in neuroscience, there is a delay between the inputs `X[i,:]` and the outputs `y[i]`.  For such cases, we can use a model of the form,\n",
        "\n",
        "    yhat[i+d,k] = \\sum_{j=0}^{p-1} \\sum_{m=0}^d X[i+m,j]*W[j,m,k] + b[k]\n",
        "    \n",
        "where `W` is a 3-dim array of coefficients where:\n",
        "\n",
        "    W[j,m,k] is the influence of the input X[i+m,j] onto output y[i+d,k]\n",
        "\n",
        "\n",
        "In signal processing, this model is called an *FIR* filter and `W[j,:,k]` is the *impulse response* from the `j`-th input to the `k`-th output.  The point is that the output at time `i+d` depends on the inputs at times `i,i+1,...,i+d`.  Hence, it depends on the last `d+1` time steps, not just the most recent time. \n"
      ]
    },
    {
      "cell_type": "code",
      "metadata": {
        "id": "Z76Fy9ru4LHY"
      },
      "source": [
        "def create_dly_data(X,y,dly):\n",
        "    \"\"\"\n",
        "    Create delayed data\n",
        "    \"\"\"\n",
        "    n, p = X.shape\n",
        "    Xdly = np.zeros((n - dly, (dly + 1) * p))\n",
        "    ydly = np.zeros((y.shape[0] - dly, y.shape[1]))\n",
        "    for i in range(0, n - dly):\n",
        "      Xdly[i, :] = np.reshape(X[i : i + dly + 1, :], (dly + 1) * p)\n",
        "      ydly[i, :] = y[i + dly, :]\n",
        "    return Xdly, ydly"
      ],
      "execution_count": null,
      "outputs": []
    },
    {
      "cell_type": "code",
      "metadata": {
        "colab": {
          "base_uri": "https://localhost:8080/"
        },
        "id": "q8Fagmtl4LHZ",
        "outputId": "3cee2d5d-f768-4723-964f-174c9b732350"
      },
      "source": [
        "# fitting an linear delayed model with dly=6 additional delay lags\n",
        "\n",
        "Xdly, ydly = create_dly_data(X, y, 6)\n",
        "Xdly_train, Xdly_test, ydly_train, ydly_test = train_test_split(Xdly, ydly, test_size = 0.33)\n",
        "regression.fit(Xdly_train, ydly_train)\n",
        "\n",
        "ydly_hat = regression.predict(Xdly_test)\n",
        "rsq_dly = r2_score(ydly_test, ydly_hat)\n",
        "print(\"R^2 Score with 6 additional delay lags : {}\".format(rsq_dly))"
      ],
      "execution_count": null,
      "outputs": [
        {
          "output_type": "stream",
          "text": [
            "R^2 Score with 6 additional delay lags : 0.6939305263365129\n"
          ],
          "name": "stdout"
        }
      ]
    },
    {
      "cell_type": "code",
      "metadata": {
        "colab": {
          "base_uri": "https://localhost:8080/",
          "height": 294
        },
        "id": "MG983G9j4LHZ",
        "outputId": "43471365-ef9f-4bbd-e3ec-bb97adb6bfdf"
      },
      "source": [
        "plt.figure(figsize = (8, 4))\n",
        "plt.subplot(1, 2, 1)\n",
        "plt.plot(ydly_hat[:, 0], ydly_test[:, 0], 'o')\n",
        "plt.xlabel(\"Predicted delayed velocity in X direction\")\n",
        "plt.ylabel(\"True delayed velocity of hand in X direction\")\n",
        "\n",
        "plt.subplot(1, 2, 2)\n",
        "plt.plot(ydly_hat[:, 1], ydly_test[:, 1], 'o')\n",
        "plt.xlabel(\"Predicted delayed velocity of hand in Y direction\")\n",
        "plt.ylabel(\"True delayed velocity of hand in Y direction\")"
      ],
      "execution_count": null,
      "outputs": [
        {
          "output_type": "execute_result",
          "data": {
            "text/plain": [
              "Text(0, 0.5, 'True delayed velocity of hand in Y direction')"
            ]
          },
          "metadata": {
            "tags": []
          },
          "execution_count": 12
        },
        {
          "output_type": "display_data",
          "data": {
            "image/png": "[encoded data removed]",
            "text/plain": [
              "<Figure size 576x288 with 2 Axes>"
            ]
          },
          "metadata": {
            "tags": [],
            "needs_background": "light"
          }
        }
      ]
    },
    {
      "cell_type": "markdown",
      "metadata": {
        "id": "x2sOlLuG4LHa"
      },
      "source": [
        "## Selecting the Optimal Delay via Model Order Selection\n",
        "\n",
        "Since we have a large number of data samples, the optimal model order uses a very high delay. Hence I use limited dataset in the beginning"
      ]
    },
    {
      "cell_type": "code",
      "metadata": {
        "id": "BY-tCZTJ4LHa"
      },
      "source": [
        "nred = 6000\n",
        "\n",
        "Xred = X[: nred, :]\n",
        "yred = y[: nred, :]"
      ],
      "execution_count": null,
      "outputs": []
    },
    {
      "cell_type": "code",
      "metadata": {
        "colab": {
          "base_uri": "https://localhost:8080/",
          "height": 65,
          "referenced_widgets": [
            "40248c11e78748e180b8988e49b8c8ef",
            "4777a4ce7e664f4db726d20405c0b8c0",
            "db8ef009ad4e49369b6566f0a4f4918c",
            "a242f54cc45f4a45971f3020ee96ccfe",
            "810a98052d22433f9799650eed9ce520",
            "6cde9de0c33c4833bb76f653d99c6d5b",
            "af90cd0e64a3405895232515f770ee6b",
            "1c6001d488b0433687a4ebb02da15675"
          ]
        },
        "id": "7FQqte8k4LHb",
        "outputId": "f6d02ad1-ab78-4edd-c816-ba137e98354d"
      },
      "source": [
        "import  sklearn.model_selection \n",
        "import tqdm.notebook\n",
        "\n",
        "nfold = 5  # Number of folds\n",
        "dmax = 15  # maximum number of delays\n",
        "\n",
        "kf = sklearn.model_selection.KFold(n_splits = nfold)\n",
        "\n",
        "dtest = np.arange(dmax + 1)\n",
        "nd = len(dtest)\n",
        "\n",
        "Rsq = np.zeros((nd, nfold))\n",
        "\n",
        "# Creating a progress bar\n",
        "pbar = tqdm.notebook.tqdm(\n",
        "    total=nfold*nd, initial=0,\n",
        "    unit='fits', unit_divisor=nd, desc='Model order test')\n",
        "\n",
        "\n",
        "for it, d in enumerate(dtest):\n",
        "    Xdly, ydly = create_dly_data(Xred, yred, d) \n",
        "        \n",
        "    # Loop over the folds\n",
        "    for isplit, Ind in enumerate(kf.split(Xdly)):\n",
        "\n",
        "        # Get the training data in the split\n",
        "        Itr, Its = Ind        \n",
        "\n",
        "        Xtr = Xdly[Itr]\n",
        "        ytr = ydly[Itr]\n",
        "        Xts = Xdly[Its]\n",
        "        yts = ydly[Its]\n",
        "        \n",
        "        regression.fit(Xtr, ytr)  \n",
        "\n",
        "        y_hat = regression.predict(Xts)\n",
        "        Rsq[it, isplit] = r2_score(yts, y_hat)\n",
        "        \n",
        "        pbar.update(1)\n",
        "pbar.close()       "
      ],
      "execution_count": null,
      "outputs": [
        {
          "output_type": "display_data",
          "data": {
            "application/vnd.jupyter.widget-view+json": {
              "model_id": "40248c11e78748e180b8988e49b8c8ef",
              "version_minor": 0,
              "version_major": 2
            },
            "text/plain": [
              "HBox(children=(FloatProgress(value=0.0, description='Model order test', max=80.0, style=ProgressStyle(descript…"
            ]
          },
          "metadata": {
            "tags": []
          }
        },
        {
          "output_type": "stream",
          "text": [
            "\n"
          ],
          "name": "stdout"
        }
      ]
    },
    {
      "cell_type": "markdown",
      "metadata": {
        "id": "MAvFHwIQ4LHb"
      },
      "source": [
        "Computing the mean and standard error of the `R^2` values as a function of the model order `d`.  "
      ]
    },
    {
      "cell_type": "code",
      "metadata": {
        "colab": {
          "base_uri": "https://localhost:8080/",
          "height": 277
        },
        "id": "xMr8tJsV4LHb",
        "outputId": "8fe50e0f-9bc2-4d89-9702-b491d2a97281"
      },
      "source": [
        "Rsq_mean = np.mean(Rsq, axis = 1)\n",
        "Rsq_std = np.std(Rsq, axis = 1)\n",
        "plt.figure(figsize = (8, 4))\n",
        "plt.errorbar(dtest, Rsq_mean, yerr = Rsq_std, fmt = '-')\n",
        "plt.xlabel(\"d\")\n",
        "plt.ylabel(\"R^2\")\n",
        "plt.grid()"
      ],
      "execution_count": null,
      "outputs": [
        {
          "output_type": "display_data",
          "data": {
            "image/png": "[encoded data removed]",
            "text/plain": [
              "<Figure size 576x288 with 1 Axes>"
            ]
          },
          "metadata": {
            "tags": [],
            "needs_background": "light"
          }
        }
      ]
    },
    {
      "cell_type": "markdown",
      "metadata": {
        "id": "tYv6xsie4LHb"
      },
      "source": [
        "Finding the optimal order `d` with the normal rule (i.e. highest test `R^2`)"
      ]
    },
    {
      "cell_type": "code",
      "metadata": {
        "colab": {
          "base_uri": "https://localhost:8080/"
        },
        "id": "ByDcebud4LHb",
        "outputId": "565d86c4-83b1-470f-e128-60c9f9b5004c"
      },
      "source": [
        "max = np.argmax(Rsq_mean)\n",
        "print(\"Optimal order with normal rule: {}\".format(dtest[max]))"
      ],
      "execution_count": null,
      "outputs": [
        {
          "output_type": "stream",
          "text": [
            "Optimal order with normal rule: 8\n"
          ],
          "name": "stdout"
        }
      ]
    },
    {
      "cell_type": "code",
      "metadata": {
        "id": "_X4e8Gs64LHc"
      },
      "source": [
        ""
      ],
      "execution_count": null,
      "outputs": []
    }
  ]
}