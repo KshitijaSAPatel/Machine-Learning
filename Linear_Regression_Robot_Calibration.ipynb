{
  "nbformat": 4,
  "nbformat_minor": 0,
  "metadata": {
    "anaconda-cloud": {},
    "kernelspec": {
      "display_name": "Python 3",
      "language": "python",
      "name": "python3"
    },
    "language_info": {
      "codemirror_mode": {
        "name": "ipython",
        "version": 3
      },
      "file_extension": ".py",
      "mimetype": "text/x-python",
      "name": "python",
      "nbconvert_exporter": "python",
      "pygments_lexer": "ipython3",
      "version": "3.7.4"
    },
    "colab": {
      "name": "Linear Regression - Robot Calibration.ipynb",
      "provenance": [],
      "collapsed_sections": []
    }
  },
  "cells": [
    {
      "cell_type": "code",
      "metadata": {
        "id": "Lyx3MA6haux2"
      },
      "source": [
        "import pandas as pd\n",
        "import numpy as np\n",
        "import matplotlib\n",
        "import matplotlib.pyplot as plt\n",
        "%matplotlib inline"
      ],
      "execution_count": null,
      "outputs": []
    },
    {
      "cell_type": "code",
      "metadata": {
        "id": "LyP01pq2aux9",
        "colab": {
          "base_uri": "https://localhost:8080/",
          "height": 51
        },
        "outputId": "bb71fda3-250b-4b91-ca7b-3ac1ae009ddf"
      },
      "source": [
        "import os\n",
        "from six.moves import urllib\n",
        "\n",
        "for fn_dst in ['exp1.csv', 'exp2.csv']:\n",
        "    fn_src = 'https://raw.githubusercontent.com/sdrangan/introml/master/unit03_mult_lin_reg/%s' % fn_dst\n",
        "\n",
        "    if os.path.isfile(fn_dst):\n",
        "        print('File %s is already downloaded' % fn_dst)\n",
        "    else:\n",
        "        print('Downloaded %s' % fn_dst)\n",
        "        urllib.request.urlretrieve(fn_src, fn_dst)"
      ],
      "execution_count": null,
      "outputs": [
        {
          "output_type": "stream",
          "text": [
            "Downloaded exp1.csv\n",
            "Downloaded exp2.csv\n"
          ],
          "name": "stdout"
        }
      ]
    },
    {
      "cell_type": "code",
      "metadata": {
        "id": "F55cW8n0auyD"
      },
      "source": [
        "names =[\n",
        "    't',                                  # Time (secs)\n",
        "    'q1', 'q2', 'q3',                     # Joint angle   (rads)\n",
        "    'dq1', 'dq2', 'dq3',                  # Joint velocity (rads/sec)\n",
        "    'I1', 'I2', 'I3',                     # Motor current (A)\n",
        "    'eps21', 'eps22', 'eps31', 'eps32',   # Strain gauge measurements ($\\mu$m /m )\n",
        "    'ddq1', 'ddq2', 'ddq3'                # Joint accelerations (rad/sec^2)\n",
        "]\n",
        "\n",
        "df = pd.read_csv('exp1.csv', names = names, index_col = 0)"
      ],
      "execution_count": null,
      "outputs": []
    },
    {
      "cell_type": "code",
      "metadata": {
        "id": "9nUqj2lwauyG",
        "colab": {
          "base_uri": "https://localhost:8080/",
          "height": 368
        },
        "outputId": "65407c39-23f3-42b2-d628-ac140b739862"
      },
      "source": [
        "df.head(6)"
      ],
      "execution_count": null,
      "outputs": [
        {
          "output_type": "execute_result",
          "data": {
            "text/html": [
              "<div>\n",
              "<style scoped>\n",
              "    .dataframe tbody tr th:only-of-type {\n",
              "        vertical-align: middle;\n",
              "    }\n",
              "\n",
              "    .dataframe tbody tr th {\n",
              "        vertical-align: top;\n",
              "    }\n",
              "\n",
              "    .dataframe thead th {\n",
              "        text-align: right;\n",
              "    }\n",
              "</style>\n",
              "<table border=\"1\" class=\"dataframe\">\n",
              "  <thead>\n",
              "    <tr style=\"text-align: right;\">\n",
              "      <th></th>\n",
              "      <th>q1</th>\n",
              "      <th>q2</th>\n",
              "      <th>q3</th>\n",
              "      <th>dq1</th>\n",
              "      <th>dq2</th>\n",
              "      <th>dq3</th>\n",
              "      <th>I1</th>\n",
              "      <th>I2</th>\n",
              "      <th>I3</th>\n",
              "      <th>eps21</th>\n",
              "      <th>eps22</th>\n",
              "      <th>eps31</th>\n",
              "      <th>eps32</th>\n",
              "      <th>ddq1</th>\n",
              "      <th>ddq2</th>\n",
              "      <th>ddq3</th>\n",
              "    </tr>\n",
              "    <tr>\n",
              "      <th>t</th>\n",
              "      <th></th>\n",
              "      <th></th>\n",
              "      <th></th>\n",
              "      <th></th>\n",
              "      <th></th>\n",
              "      <th></th>\n",
              "      <th></th>\n",
              "      <th></th>\n",
              "      <th></th>\n",
              "      <th></th>\n",
              "      <th></th>\n",
              "      <th></th>\n",
              "      <th></th>\n",
              "      <th></th>\n",
              "      <th></th>\n",
              "      <th></th>\n",
              "    </tr>\n",
              "  </thead>\n",
              "  <tbody>\n",
              "    <tr>\n",
              "      <th>0.00</th>\n",
              "      <td>-0.000007</td>\n",
              "      <td>2.4958</td>\n",
              "      <td>-1.1345</td>\n",
              "      <td>-7.882100e-21</td>\n",
              "      <td>-4.940656e-321</td>\n",
              "      <td>3.913100e-29</td>\n",
              "      <td>-0.081623</td>\n",
              "      <td>-0.40812</td>\n",
              "      <td>-0.30609</td>\n",
              "      <td>-269.25</td>\n",
              "      <td>-113.20</td>\n",
              "      <td>3.5918</td>\n",
              "      <td>1.57860</td>\n",
              "      <td>-9.904900e-19</td>\n",
              "      <td>-6.210306e-319</td>\n",
              "      <td>4.917400e-27</td>\n",
              "    </tr>\n",
              "    <tr>\n",
              "      <th>0.01</th>\n",
              "      <td>-0.000007</td>\n",
              "      <td>2.4958</td>\n",
              "      <td>-1.1345</td>\n",
              "      <td>-2.258200e-21</td>\n",
              "      <td>-4.940656e-321</td>\n",
              "      <td>2.626200e-31</td>\n",
              "      <td>-0.037411</td>\n",
              "      <td>-0.37241</td>\n",
              "      <td>-0.26698</td>\n",
              "      <td>-270.91</td>\n",
              "      <td>-116.05</td>\n",
              "      <td>1.4585</td>\n",
              "      <td>-1.73980</td>\n",
              "      <td>4.248100e-19</td>\n",
              "      <td>-1.766878e-319</td>\n",
              "      <td>-1.381100e-27</td>\n",
              "    </tr>\n",
              "    <tr>\n",
              "      <th>0.02</th>\n",
              "      <td>-0.000007</td>\n",
              "      <td>2.4958</td>\n",
              "      <td>-1.1345</td>\n",
              "      <td>-6.469800e-22</td>\n",
              "      <td>-4.940656e-321</td>\n",
              "      <td>1.762500e-33</td>\n",
              "      <td>-0.066319</td>\n",
              "      <td>-0.40302</td>\n",
              "      <td>-0.31459</td>\n",
              "      <td>-269.25</td>\n",
              "      <td>-112.97</td>\n",
              "      <td>3.5918</td>\n",
              "      <td>0.86753</td>\n",
              "      <td>3.233800e-19</td>\n",
              "      <td>-4.990557e-320</td>\n",
              "      <td>-4.117300e-28</td>\n",
              "    </tr>\n",
              "    <tr>\n",
              "      <th>0.03</th>\n",
              "      <td>-0.000007</td>\n",
              "      <td>2.4958</td>\n",
              "      <td>-1.1345</td>\n",
              "      <td>-1.853600e-22</td>\n",
              "      <td>-4.940656e-321</td>\n",
              "      <td>1.182800e-35</td>\n",
              "      <td>-0.068020</td>\n",
              "      <td>-0.43703</td>\n",
              "      <td>-0.28398</td>\n",
              "      <td>-269.97</td>\n",
              "      <td>-114.39</td>\n",
              "      <td>1.6956</td>\n",
              "      <td>-0.08059</td>\n",
              "      <td>1.500500e-19</td>\n",
              "      <td>-1.394253e-320</td>\n",
              "      <td>-1.173100e-28</td>\n",
              "    </tr>\n",
              "    <tr>\n",
              "      <th>0.04</th>\n",
              "      <td>-0.000007</td>\n",
              "      <td>2.4958</td>\n",
              "      <td>-1.1345</td>\n",
              "      <td>-5.310600e-23</td>\n",
              "      <td>-4.940656e-321</td>\n",
              "      <td>-5.270900e-03</td>\n",
              "      <td>-0.052715</td>\n",
              "      <td>-0.40472</td>\n",
              "      <td>-0.30779</td>\n",
              "      <td>-269.97</td>\n",
              "      <td>-114.15</td>\n",
              "      <td>3.1177</td>\n",
              "      <td>0.86753</td>\n",
              "      <td>5.932400e-20</td>\n",
              "      <td>-3.581976e-321</td>\n",
              "      <td>-3.770800e-01</td>\n",
              "    </tr>\n",
              "    <tr>\n",
              "      <th>0.05</th>\n",
              "      <td>-0.000007</td>\n",
              "      <td>2.4958</td>\n",
              "      <td>-1.1345</td>\n",
              "      <td>-1.521500e-23</td>\n",
              "      <td>-4.940656e-321</td>\n",
              "      <td>3.252600e-04</td>\n",
              "      <td>-0.088425</td>\n",
              "      <td>-0.42342</td>\n",
              "      <td>-0.29589</td>\n",
              "      <td>-269.25</td>\n",
              "      <td>-114.15</td>\n",
              "      <td>2.4066</td>\n",
              "      <td>-0.08059</td>\n",
              "      <td>2.164600e-20</td>\n",
              "      <td>-1.141292e-321</td>\n",
              "      <td>2.930300e-01</td>\n",
              "    </tr>\n",
              "  </tbody>\n",
              "</table>\n",
              "</div>"
            ],
            "text/plain": [
              "            q1      q2      q3  ...          ddq1           ddq2          ddq3\n",
              "t                               ...                                           \n",
              "0.00 -0.000007  2.4958 -1.1345  ... -9.904900e-19 -6.210306e-319  4.917400e-27\n",
              "0.01 -0.000007  2.4958 -1.1345  ...  4.248100e-19 -1.766878e-319 -1.381100e-27\n",
              "0.02 -0.000007  2.4958 -1.1345  ...  3.233800e-19 -4.990557e-320 -4.117300e-28\n",
              "0.03 -0.000007  2.4958 -1.1345  ...  1.500500e-19 -1.394253e-320 -1.173100e-28\n",
              "0.04 -0.000007  2.4958 -1.1345  ...  5.932400e-20 -3.581976e-321 -3.770800e-01\n",
              "0.05 -0.000007  2.4958 -1.1345  ...  2.164600e-20 -1.141292e-321  2.930300e-01\n",
              "\n",
              "[6 rows x 16 columns]"
            ]
          },
          "metadata": {
            "tags": []
          },
          "execution_count": 4
        }
      ]
    },
    {
      "cell_type": "code",
      "metadata": {
        "id": "NIWorph1auyK",
        "colab": {
          "base_uri": "https://localhost:8080/",
          "height": 279
        },
        "outputId": "4b258dc6-3a4e-41be-dcff-d33cb95f65c5"
      },
      "source": [
        "y = np.array(df['I2'])\n",
        "t = np.array(df.index)\n",
        "plt.plot(y, t)\n",
        "plt.ylabel('Time t')\n",
        "plt.xlabel('Current into the second joint I2')\n",
        "plt.grid()"
      ],
      "execution_count": null,
      "outputs": [
        {
          "output_type": "display_data",
          "data": {
            "image/png": "[encoded data removed]",
            "text/plain": [
              "<Figure size 432x288 with 1 Axes>"
            ]
          },
          "metadata": {
            "tags": [],
            "needs_background": "light"
          }
        }
      ]
    },
    {
      "cell_type": "markdown",
      "metadata": {
        "id": "Lcpm01wIauyL"
      },
      "source": [
        "\n",
        "* `ytrain`:  A vector of all the samples from the `I2` column\n",
        "* `Xtrain`:  A matrix of the data with the columns:  `['q2','dq2','eps21', 'eps22', 'eps31', 'eps32','ddq2']`"
      ]
    },
    {
      "cell_type": "code",
      "metadata": {
        "id": "YoAPiSdcauyM"
      },
      "source": [
        "ytrain = df['I2']\n",
        "Xtrain = df[['q2', 'dq2', 'eps21', 'eps22', 'eps31', 'eps32', 'ddq2']]"
      ],
      "execution_count": null,
      "outputs": []
    },
    {
      "cell_type": "markdown",
      "metadata": {
        "id": "fCV43oxCauyN"
      },
      "source": [
        "## Fit a Linear Model\n"
      ]
    },
    {
      "cell_type": "code",
      "metadata": {
        "id": "bfxsa8BmauyN"
      },
      "source": [
        "from sklearn import linear_model\n",
        "\n",
        "regr = linear_model.LinearRegression()"
      ],
      "execution_count": null,
      "outputs": []
    },
    {
      "cell_type": "code",
      "metadata": {
        "id": "7woVytymauyP",
        "colab": {
          "base_uri": "https://localhost:8080/",
          "height": 34
        },
        "outputId": "b2e547f2-d0f5-4f2f-d26f-386f753ef4a0"
      },
      "source": [
        "regr.fit(Xtrain, ytrain)"
      ],
      "execution_count": null,
      "outputs": [
        {
          "output_type": "execute_result",
          "data": {
            "text/plain": [
              "LinearRegression(copy_X=True, fit_intercept=True, n_jobs=None, normalize=False)"
            ]
          },
          "metadata": {
            "tags": []
          },
          "execution_count": 8
        }
      ]
    },
    {
      "cell_type": "code",
      "metadata": {
        "id": "A0rP3D0FauyR",
        "colab": {
          "base_uri": "https://localhost:8080/",
          "height": 279
        },
        "outputId": "a350142d-0609-412c-9dcb-e2ab98ec2839"
      },
      "source": [
        "ytrain_pred = regr.predict(Xtrain)\n",
        "plt.plot(ytrain, t)\n",
        "plt.plot(ytrain_pred, t)\n",
        "plt.ylabel('Time t')\n",
        "plt.xlabel('Current into the second join I2')\n",
        "plt.legend(['ytrain', 'ytrain_pred'])\n",
        "plt.grid()\n",
        "plt.show()"
      ],
      "execution_count": null,
      "outputs": [
        {
          "output_type": "display_data",
          "data": {
            "image/png": "[encoded data removed]",
            "text/plain": [
              "<Figure size 432x288 with 1 Axes>"
            ]
          },
          "metadata": {
            "tags": [],
            "needs_background": "light"
          }
        }
      ]
    },
    {
      "cell_type": "code",
      "metadata": {
        "id": "j4v4xpgpauyT",
        "colab": {
          "base_uri": "https://localhost:8080/",
          "height": 34
        },
        "outputId": "fb8d963d-8883-4154-cd61-63c68780d3c5"
      },
      "source": [
        "RSS_train = np.mean((ytrain_pred - ytrain) ** 2) / (np.std(ytrain) ** 2)\n",
        "print('Normalized RSS %1.3f' %RSS_train)"
      ],
      "execution_count": null,
      "outputs": [
        {
          "output_type": "stream",
          "text": [
            "Normalized RSS 0.096\n"
          ],
          "name": "stdout"
        }
      ]
    },
    {
      "cell_type": "markdown",
      "metadata": {
        "id": "XtrY5h9pauyU"
      },
      "source": [
        "## Measure the Fit on an Indepdent Dataset\n",
        "\n"
      ]
    },
    {
      "cell_type": "code",
      "metadata": {
        "id": "hSNhtBh-auyV",
        "colab": {
          "base_uri": "https://localhost:8080/",
          "height": 235
        },
        "outputId": "dd3a53e8-8f8a-4469-a89f-ea6d2cce3971"
      },
      "source": [
        "df_test = pd.read_csv('exp2.csv', names = names, index_col = 0)\n",
        "df_test.head()"
      ],
      "execution_count": null,
      "outputs": [
        {
          "output_type": "execute_result",
          "data": {
            "text/html": [
              "<div>\n",
              "<style scoped>\n",
              "    .dataframe tbody tr th:only-of-type {\n",
              "        vertical-align: middle;\n",
              "    }\n",
              "\n",
              "    .dataframe tbody tr th {\n",
              "        vertical-align: top;\n",
              "    }\n",
              "\n",
              "    .dataframe thead th {\n",
              "        text-align: right;\n",
              "    }\n",
              "</style>\n",
              "<table border=\"1\" class=\"dataframe\">\n",
              "  <thead>\n",
              "    <tr style=\"text-align: right;\">\n",
              "      <th></th>\n",
              "      <th>q1</th>\n",
              "      <th>q2</th>\n",
              "      <th>q3</th>\n",
              "      <th>dq1</th>\n",
              "      <th>dq2</th>\n",
              "      <th>dq3</th>\n",
              "      <th>I1</th>\n",
              "      <th>I2</th>\n",
              "      <th>I3</th>\n",
              "      <th>eps21</th>\n",
              "      <th>eps22</th>\n",
              "      <th>eps31</th>\n",
              "      <th>eps32</th>\n",
              "      <th>ddq1</th>\n",
              "      <th>ddq2</th>\n",
              "      <th>ddq3</th>\n",
              "    </tr>\n",
              "    <tr>\n",
              "      <th>t</th>\n",
              "      <th></th>\n",
              "      <th></th>\n",
              "      <th></th>\n",
              "      <th></th>\n",
              "      <th></th>\n",
              "      <th></th>\n",
              "      <th></th>\n",
              "      <th></th>\n",
              "      <th></th>\n",
              "      <th></th>\n",
              "      <th></th>\n",
              "      <th></th>\n",
              "      <th></th>\n",
              "      <th></th>\n",
              "      <th></th>\n",
              "      <th></th>\n",
              "    </tr>\n",
              "  </thead>\n",
              "  <tbody>\n",
              "    <tr>\n",
              "      <th>0.00</th>\n",
              "      <td>-0.000007</td>\n",
              "      <td>1.9024</td>\n",
              "      <td>0.26063</td>\n",
              "      <td>-0.000364</td>\n",
              "      <td>4.940656e-321</td>\n",
              "      <td>0.012596</td>\n",
              "      <td>-0.096928</td>\n",
              "      <td>-0.15134</td>\n",
              "      <td>-0.017005</td>\n",
              "      <td>-130.83</td>\n",
              "      <td>-41.856</td>\n",
              "      <td>-6.3635</td>\n",
              "      <td>5.13410</td>\n",
              "      <td>-0.045712</td>\n",
              "      <td>6.210306e-319</td>\n",
              "      <td>1.582900</td>\n",
              "    </tr>\n",
              "    <tr>\n",
              "      <th>0.01</th>\n",
              "      <td>0.000013</td>\n",
              "      <td>1.9024</td>\n",
              "      <td>0.26073</td>\n",
              "      <td>0.000739</td>\n",
              "      <td>4.940656e-321</td>\n",
              "      <td>0.012095</td>\n",
              "      <td>-0.028908</td>\n",
              "      <td>-0.11903</td>\n",
              "      <td>-0.020406</td>\n",
              "      <td>-138.18</td>\n",
              "      <td>-51.100</td>\n",
              "      <td>-14.6590</td>\n",
              "      <td>-5.05820</td>\n",
              "      <td>0.125580</td>\n",
              "      <td>1.766878e-319</td>\n",
              "      <td>0.414660</td>\n",
              "    </tr>\n",
              "    <tr>\n",
              "      <th>0.02</th>\n",
              "      <td>-0.000007</td>\n",
              "      <td>1.9024</td>\n",
              "      <td>0.26086</td>\n",
              "      <td>-0.000580</td>\n",
              "      <td>4.940656e-321</td>\n",
              "      <td>0.011596</td>\n",
              "      <td>-0.059517</td>\n",
              "      <td>-0.13944</td>\n",
              "      <td>-0.047614</td>\n",
              "      <td>-139.36</td>\n",
              "      <td>-51.812</td>\n",
              "      <td>-14.6590</td>\n",
              "      <td>-5.29520</td>\n",
              "      <td>-0.130080</td>\n",
              "      <td>4.990557e-320</td>\n",
              "      <td>0.082286</td>\n",
              "    </tr>\n",
              "    <tr>\n",
              "      <th>0.03</th>\n",
              "      <td>0.000013</td>\n",
              "      <td>1.9024</td>\n",
              "      <td>0.26099</td>\n",
              "      <td>0.001409</td>\n",
              "      <td>4.940656e-321</td>\n",
              "      <td>0.013933</td>\n",
              "      <td>-0.079923</td>\n",
              "      <td>-0.15304</td>\n",
              "      <td>-0.023807</td>\n",
              "      <td>-135.57</td>\n",
              "      <td>-48.019</td>\n",
              "      <td>-11.3410</td>\n",
              "      <td>-0.79168</td>\n",
              "      <td>0.213010</td>\n",
              "      <td>1.394253e-320</td>\n",
              "      <td>0.190650</td>\n",
              "    </tr>\n",
              "    <tr>\n",
              "      <th>0.04</th>\n",
              "      <td>-0.000007</td>\n",
              "      <td>1.9024</td>\n",
              "      <td>0.26110</td>\n",
              "      <td>-0.001273</td>\n",
              "      <td>4.940656e-321</td>\n",
              "      <td>0.010793</td>\n",
              "      <td>-0.025507</td>\n",
              "      <td>-0.12924</td>\n",
              "      <td>-0.006802</td>\n",
              "      <td>-135.81</td>\n",
              "      <td>-49.204</td>\n",
              "      <td>-12.0520</td>\n",
              "      <td>-2.21390</td>\n",
              "      <td>-0.276490</td>\n",
              "      <td>3.581976e-321</td>\n",
              "      <td>-0.170400</td>\n",
              "    </tr>\n",
              "  </tbody>\n",
              "</table>\n",
              "</div>"
            ],
            "text/plain": [
              "            q1      q2       q3  ...      ddq1           ddq2      ddq3\n",
              "t                                ...                                   \n",
              "0.00 -0.000007  1.9024  0.26063  ... -0.045712  6.210306e-319  1.582900\n",
              "0.01  0.000013  1.9024  0.26073  ...  0.125580  1.766878e-319  0.414660\n",
              "0.02 -0.000007  1.9024  0.26086  ... -0.130080  4.990557e-320  0.082286\n",
              "0.03  0.000013  1.9024  0.26099  ...  0.213010  1.394253e-320  0.190650\n",
              "0.04 -0.000007  1.9024  0.26110  ... -0.276490  3.581976e-321 -0.170400\n",
              "\n",
              "[5 rows x 16 columns]"
            ]
          },
          "metadata": {
            "tags": []
          },
          "execution_count": 14
        }
      ]
    },
    {
      "cell_type": "code",
      "metadata": {
        "id": "vtUFqLpEfKCB"
      },
      "source": [
        "# Predict\n",
        "ytest = df_test['I2']\n",
        "Xtest = df_test[['q2', 'dq2', 'eps21', 'eps22', 'eps31', 'eps32', 'ddq2']]\n",
        "ytest_pred = regr.predict(Xtest)"
      ],
      "execution_count": null,
      "outputs": []
    },
    {
      "cell_type": "code",
      "metadata": {
        "id": "V1mYa4RnfNIM",
        "colab": {
          "base_uri": "https://localhost:8080/",
          "height": 279
        },
        "outputId": "11cc5942-5382-4d0c-b834-eae03a8dba98"
      },
      "source": [
        "# Plot\n",
        "plt.plot(ytest, df_test.index)\n",
        "plt.plot(ytest_pred, df_test.index)\n",
        "plt.ylabel('Time t')\n",
        "plt.xlabel('Current into the second join I2')\n",
        "plt.legend(['ytrain', 'ytrain_pred'])\n",
        "plt.grid()\n",
        "plt.show()"
      ],
      "execution_count": null,
      "outputs": [
        {
          "output_type": "display_data",
          "data": {
            "image/png": "[encoded data removed]",
            "text/plain": [
              "<Figure size 432x288 with 1 Axes>"
            ]
          },
          "metadata": {
            "tags": [],
            "needs_background": "light"
          }
        }
      ]
    },
    {
      "cell_type": "markdown",
      "metadata": {
        "id": "td6BHUMOauyW"
      },
      "source": [
        "Measure the normalized RSS on the test data."
      ]
    },
    {
      "cell_type": "code",
      "metadata": {
        "id": "UTkW7ll9auyW",
        "colab": {
          "base_uri": "https://localhost:8080/",
          "height": 34
        },
        "outputId": "f68bd8f2-fd3a-4d7e-8421-b158a65e5de1"
      },
      "source": [
        "RSS_test = np.mean((ytest_pred - ytest) ** 2) / (np.std(ytest) ** 2)\n",
        "print('Normalized RSS %1.3f' %RSS_test)"
      ],
      "execution_count": null,
      "outputs": [
        {
          "output_type": "stream",
          "text": [
            "Normalized RSS 0.127\n"
          ],
          "name": "stdout"
        }
      ]
    },
    {
      "cell_type": "code",
      "metadata": {
        "id": "9mrjZn25auyY"
      },
      "source": [
        ""
      ],
      "execution_count": null,
      "outputs": []
    }
  ]
}