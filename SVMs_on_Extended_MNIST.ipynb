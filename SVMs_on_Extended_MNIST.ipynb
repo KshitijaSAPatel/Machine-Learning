{
  "nbformat": 4,
  "nbformat_minor": 0,
  "metadata": {
    "kernelspec": {
      "display_name": "Python 3",
      "language": "python",
      "name": "python3"
    },
    "language_info": {
      "codemirror_mode": {
        "name": "ipython",
        "version": 3
      },
      "file_extension": ".py",
      "mimetype": "text/x-python",
      "name": "python",
      "nbconvert_exporter": "python",
      "pygments_lexer": "ipython3",
      "version": "3.8.3"
    },
    "colab": {
      "name": "SVMs on Extended MNIST.ipynb",
      "provenance": []
    }
  },
  "cells": [
    {
      "cell_type": "markdown",
      "metadata": {
        "id": "w0t3W2aEA75m"
      },
      "source": [
        "Detection Problem : To distinguish the digits from the non-digits (All non-digits are lumped as a single 11-th class)"
      ]
    },
    {
      "cell_type": "code",
      "metadata": {
        "id": "EDGUcU76A75o"
      },
      "source": [
        "import numpy as np\n",
        "import matplotlib.pyplot as plt\n",
        "%matplotlib inline\n",
        "from sklearn import linear_model, preprocessing"
      ],
      "execution_count": null,
      "outputs": []
    },
    {
      "cell_type": "markdown",
      "metadata": {
        "id": "g55mtiZaA75s"
      },
      "source": [
        "## Downloading the EMNIST Dataset\n",
        " "
      ]
    },
    {
      "cell_type": "code",
      "metadata": {
        "id": "4DboVGfnA75s",
        "colab": {
          "base_uri": "https://localhost:8080/"
        },
        "outputId": "338ce022-d70d-433c-a2b8-e7ae83e5348c"
      },
      "source": [
        "from tqdm import tqdm\n",
        "import requests\n",
        "import os\n",
        "import zipfile\n",
        "\n",
        "def download_file(src_url, dst_fn):\n",
        "    \n",
        "    if os.path.exists(dst_fn):\n",
        "        print('File %s already exists' % dst_fn)\n",
        "        return\n",
        "    \n",
        "    print('Downloading %s' % dst_fn)\n",
        "    \n",
        "    # Streaming, so we can iterate over the response.\n",
        "    r = requests.get(src_url, stream=True)\n",
        "\n",
        "    # Total size in MB.\n",
        "    total_size = int(r.headers.get('content-length', 0)); \n",
        "    block_size = 1024\n",
        "    wrote = 0 \n",
        "    with open(dst_fn, 'wb') as f:\n",
        "        with tqdm(total=total_size//block_size, unit='kB', \n",
        "                           unit_scale=True, unit_divisor=1024) as pbar:\n",
        "            for data in r.iter_content(block_size):\n",
        "                wrote = wrote + len(data)\n",
        "                pbar.update(1)\n",
        "                f.write(data)\n",
        "    if total_size != 0 and wrote != total_size:\n",
        "        print(\"ERROR, something went wrong\") \n",
        "\n",
        "# Get file names\n",
        "matlab_dir = 'matlab'\n",
        "digits_fn =  os.path.join(matlab_dir,'emnist-digits.mat')\n",
        "letters_fn = os.path.join(matlab_dir,'emnist-letters.mat')\n",
        "\n",
        "# Check if files exists\n",
        "if os.path.exists(matlab_dir):\n",
        "    if os.path.exists(digits_fn) and os.path.exists(letters_fn):\n",
        "        print('Files already downloaded')\n",
        "        files_exists = True\n",
        "else:\n",
        "    files_exists = False\n",
        "    \n",
        "if not files_exists:\n",
        "    # First download the zip file if needed\n",
        "    src_url = \"http://www.itl.nist.gov/iaui/vip/cs_links/EMNIST/matlab.zip\"\n",
        "    dst_fn = 'matlab.zip'\n",
        "    download_file(src_url, dst_fn)\n",
        "    \n",
        "    # Then, unzip the file\n",
        "    print('Unzipping %s...' % dst_fn)\n",
        "    zip_ref = zipfile.ZipFile(dst_fn, 'r')\n",
        "    zip_ref.extractall('.')\n",
        "    zip_ref.close()\n",
        "    print('Unzip completed')"
      ],
      "execution_count": null,
      "outputs": [
        {
          "output_type": "stream",
          "text": [
            "Downloading matlab.zip\n"
          ],
          "name": "stdout"
        },
        {
          "output_type": "stream",
          "text": [
            "709kkB [00:30, 24.2kkB/s]                          \n"
          ],
          "name": "stderr"
        },
        {
          "output_type": "stream",
          "text": [
            "Unzipping matlab.zip...\n",
            "Unzip completed\n"
          ],
          "name": "stdout"
        }
      ]
    },
    {
      "cell_type": "code",
      "metadata": {
        "id": "O50vxxJ-A75v"
      },
      "source": [
        "import scipy.io\n",
        "def load_emnist(file_path='emnist-digits.mat'):\n",
        "    \"\"\"\n",
        "    Loads training and test data with ntr and nts training and test samples\n",
        "    The `file_path` is the location of the `eminst-balanced.mat`.\n",
        "    \"\"\"    \n",
        "    \n",
        "    # Load the MATLAB file\n",
        "    mat = scipy.io.loadmat(file_path)\n",
        "    \n",
        "    # Get the training data\n",
        "    Xtr = mat['dataset'][0][0][0][0][0][0][:]\n",
        "    ntr = Xtr.shape[0]\n",
        "    ytr = mat['dataset'][0][0][0][0][0][1][:].reshape(ntr).astype(int)\n",
        "    \n",
        "    # Get the test data\n",
        "    Xts = mat['dataset'][0][0][1][0][0][0][:]\n",
        "    nts = Xts.shape[0]\n",
        "    yts = mat['dataset'][0][0][1][0][0][1][:].reshape(nts).astype(int)\n",
        "    \n",
        "    print(\"%d training samples, %d test samples loaded\" % (ntr, nts))\n",
        "\n",
        "    return [Xtr, Xts, ytr, yts]"
      ],
      "execution_count": null,
      "outputs": []
    },
    {
      "cell_type": "code",
      "metadata": {
        "id": "N3XzAwrHA75y",
        "colab": {
          "base_uri": "https://localhost:8080/"
        },
        "outputId": "08fe9085-d9a6-4f82-f2b4-16b7e7689a45"
      },
      "source": [
        "# Load the digit data from emnist-digits.mat\n",
        "Xtr_dig, Xts_dig, ytr_dig, yts_dig = load_emnist('emnist-digits.mat')"
      ],
      "execution_count": null,
      "outputs": [
        {
          "output_type": "stream",
          "text": [
            "240000 training samples, 40000 test samples loaded\n"
          ],
          "name": "stdout"
        }
      ]
    },
    {
      "cell_type": "code",
      "metadata": {
        "id": "8YBdbRXgA751",
        "colab": {
          "base_uri": "https://localhost:8080/"
        },
        "outputId": "1b416275-16c0-4a3a-cd66-f3526347cb21"
      },
      "source": [
        "# Load the digit data from emnist-letters.mat\n",
        "Xtr_let, Xts_let, ytr_let, yts_let = load_emnist('emnist-letters.mat')"
      ],
      "execution_count": null,
      "outputs": [
        {
          "output_type": "stream",
          "text": [
            "124800 training samples, 20800 test samples loaded\n"
          ],
          "name": "stdout"
        }
      ]
    },
    {
      "cell_type": "code",
      "metadata": {
        "id": "7-0U-N6KA753"
      },
      "source": [
        "def plt_digit(x,y=None):\n",
        "  nrow = 28\n",
        "  ncol = 28\n",
        "  xsq = x.reshape((nrow,ncol))\n",
        "  plt.imshow(xsq.T,  cmap='Greys_r')\n",
        "  plt.xticks([])\n",
        "  plt.yticks([])    \n",
        "  if y != None:\n",
        "    plt.title(y)        "
      ],
      "execution_count": null,
      "outputs": []
    },
    {
      "cell_type": "code",
      "metadata": {
        "id": "jCTH7J_ZA757",
        "colab": {
          "base_uri": "https://localhost:8080/",
          "height": 266
        },
        "outputId": "efc922a1-c062-4527-d795-4306fac355b6"
      },
      "source": [
        "# Ploting 8 random samples from the training data of the digits\n",
        "\n",
        "plt.figure(figsize=(8, 4))\n",
        "random_index = np.random.choice(Xtr_dig.shape[0], 8)\n",
        "\n",
        "for i, x in enumerate(random_index):\n",
        "  plt.subplot(2, 4, i+1)\n",
        "  plt_digit(Xtr_dig[x], ytr_dig[x])\n",
        "\n",
        "plt.show()"
      ],
      "execution_count": null,
      "outputs": [
        {
          "output_type": "display_data",
          "data": {
            "image/png": "[encoded data removed]",
            "text/plain": [
              "<Figure size 576x288 with 8 Axes>"
            ]
          },
          "metadata": {
            "tags": []
          }
        }
      ]
    },
    {
      "cell_type": "code",
      "metadata": {
        "id": "RnAoGgK9A759",
        "colab": {
          "base_uri": "https://localhost:8080/",
          "height": 266
        },
        "outputId": "9fd18aa3-e8b7-46c2-c317-a30a33c2ddeb"
      },
      "source": [
        "# Ploting 8 random samples from the training data of the letters\n",
        "\n",
        "plt.figure(figsize=(8, 4))\n",
        "random_index = np.random.choice(Xtr_let.shape[0], 8)\n",
        "\n",
        "for i, x in enumerate(random_index):\n",
        "  plt.subplot(2, 4, i+1)\n",
        "  plt_digit(Xtr_let[x], chr(ord('a') +  ytr_let[x] - 1))\n",
        "    \n",
        "plt.show()"
      ],
      "execution_count": null,
      "outputs": [
        {
          "output_type": "display_data",
          "data": {
            "image/png": "[encoded data removed]",
            "text/plain": [
              "<Figure size 576x288 with 8 Axes>"
            ]
          },
          "metadata": {
            "tags": []
          }
        }
      ]
    },
    {
      "cell_type": "markdown",
      "metadata": {
        "id": "RyfzkDuZA75_"
      },
      "source": [
        "## Creating a Non-Digit Class\n",
        "\n",
        "SVM classifiers are VERY SLOW to train.  The training is particularly slow when there are a large number of classes, since the one classifier must be trained for each pair of labels.  To make the problem easier, I lumped all of the letters in one class and added that class to the digits.  \n",
        "\n",
        "I also removed all the letters corresponding to `i/I`, `l/L` and `o/O`.  The reason is that these letters would get confused with the digits `0` and `1`. "
      ]
    },
    {
      "cell_type": "code",
      "metadata": {
        "id": "C57tk9SNA76A"
      },
      "source": [
        "remove_list = np.array([9,12,15])\n",
        "\n",
        "# Create arrays with labels 9, 12 and 15 removed\n",
        "\n",
        "tr_index = np.all((ytr_let != 9, ytr_let != 12, ytr_let != 15), axis=0)\n",
        "ts_index = np.all((yts_let != 9, yts_let != 12, yts_let != 15), axis=0)\n",
        "Xtr_let_rem, ytr_let_rem = Xtr_let[tr_index], ytr_let[tr_index]\n",
        "Xts_let_rem, yts_let_rem = Xts_let[ts_index], yts_let[ts_index]"
      ],
      "execution_count": null,
      "outputs": []
    },
    {
      "cell_type": "code",
      "metadata": {
        "id": "st9hNiRAA76C"
      },
      "source": [
        "# Number of training and test digits and letters\n",
        "ntr_dig = 5000\n",
        "ntr_let = 1000\n",
        "nts_dig = 5000\n",
        "nts_let = 1000\n",
        "\n",
        "# Create sub-sampled training and test data\n",
        "tr_dig = np.random.choice(Xtr_dig.shape[0], ntr_dig)\n",
        "tr_let = np.random.choice(Xtr_let_rem.shape[0], ntr_let)\n",
        "ts_dig = np.random.choice(Xts_dig.shape[0], nts_dig)\n",
        "ts_let = np.random.choice(Xts_let_rem.shape[0], nts_let)\n",
        "\n",
        "\n",
        "Xtr1_dig, ytr1_dig = Xtr_dig[tr_dig], ytr_dig[tr_dig]\n",
        "Xts1_dig, yts1_dig = Xts_dig[ts_dig], yts_dig[ts_dig]\n",
        "Xtr1_let, ytr1_let = Xtr_let_rem[tr_let], ytr_let_rem[tr_let]\n",
        "Xts1_let, yts1_let = Xts_let_rem[ts_let], yts_let_rem[ts_let]"
      ],
      "execution_count": null,
      "outputs": []
    },
    {
      "cell_type": "code",
      "metadata": {
        "id": "tSHZlsqUA76F",
        "colab": {
          "base_uri": "https://localhost:8080/"
        },
        "outputId": "0388a298-7cb2-44ec-ccdf-d88adfe1bafa"
      },
      "source": [
        "# Create combined letter and digit training and test data\n",
        "\n",
        "Xtr, ytr = np.vstack((Xtr1_dig, Xtr1_let)), np.hstack((ytr1_dig, np.repeat(10, ytr1_let.shape[0])))\n",
        "Xts, yts = np.vstack((Xts1_dig, Xts1_let)), np.hstack((yts1_dig, np.repeat(10, yts1_let.shape[0])))\n",
        "\n",
        "Xtr.shape, ytr.shape"
      ],
      "execution_count": null,
      "outputs": [
        {
          "output_type": "execute_result",
          "data": {
            "text/plain": [
              "((6000, 784), (6000,))"
            ]
          },
          "metadata": {
            "tags": []
          },
          "execution_count": 45
        }
      ]
    },
    {
      "cell_type": "code",
      "metadata": {
        "id": "6jal2PxkA76H"
      },
      "source": [
        "# Rescale the data from -1 to 1\n",
        "\n",
        "Xtr1 = Xtr/127.5 - 1\n",
        "Xts1 = Xts/127.5 - 1"
      ],
      "execution_count": null,
      "outputs": []
    },
    {
      "cell_type": "markdown",
      "metadata": {
        "id": "qyJ5J58rA76K"
      },
      "source": [
        "## Run the SVM classifier\n",
        "\n"
      ]
    },
    {
      "cell_type": "code",
      "metadata": {
        "id": "8G-IONjmA76L"
      },
      "source": [
        "from sklearn import svm\n",
        "\n",
        "svc = svm.SVC(C=2.8, gamma=0.0073)"
      ],
      "execution_count": null,
      "outputs": []
    },
    {
      "cell_type": "code",
      "metadata": {
        "id": "xTVnYx3ZA76N",
        "colab": {
          "base_uri": "https://localhost:8080/"
        },
        "outputId": "bd873b27-3c93-471a-dc63-37d8b67f6b95"
      },
      "source": [
        "svc.fit(Xtr1, ytr)"
      ],
      "execution_count": null,
      "outputs": [
        {
          "output_type": "execute_result",
          "data": {
            "text/plain": [
              "SVC(C=2.8, break_ties=False, cache_size=200, class_weight=None, coef0=0.0,\n",
              "    decision_function_shape='ovr', degree=3, gamma=0.0073, kernel='rbf',\n",
              "    max_iter=-1, probability=False, random_state=None, shrinking=True,\n",
              "    tol=0.001, verbose=False)"
            ]
          },
          "metadata": {
            "tags": []
          },
          "execution_count": 48
        }
      ]
    },
    {
      "cell_type": "code",
      "metadata": {
        "id": "GRBIniwQA76Q",
        "colab": {
          "base_uri": "https://localhost:8080/"
        },
        "outputId": "cc72997f-8bc5-4327-b456-f732fb218902"
      },
      "source": [
        "y_pred = svc.predict(Xts1)\n",
        "y_acc = np.mean(yts == y_pred)*100\n",
        "print(\"Accuracy is \", y_acc)"
      ],
      "execution_count": null,
      "outputs": [
        {
          "output_type": "stream",
          "text": [
            "Accuracy is  91.03333333333333\n"
          ],
          "name": "stdout"
        }
      ]
    },
    {
      "cell_type": "code",
      "metadata": {
        "id": "xoBYibMzA76S",
        "colab": {
          "base_uri": "https://localhost:8080/"
        },
        "outputId": "26e7f7ae-f8e8-4209-cac8-fb4d3d0cf53b"
      },
      "source": [
        "# Print a confusion matrix\n",
        "from sklearn.metrics import confusion_matrix\n",
        "\n",
        "cm = confusion_matrix(yts, y_pred)\n",
        "cm"
      ],
      "execution_count": null,
      "outputs": [
        {
          "output_type": "execute_result",
          "data": {
            "text/plain": [
              "array([[476,   0,   0,   0,   0,   0,   1,   0,   0,   0,  30],\n",
              "       [  0, 480,   1,   0,   2,   0,   0,   0,   3,   0,  10],\n",
              "       [  2,   0, 481,   0,   0,   0,   1,   5,   3,   0,  43],\n",
              "       [  0,   0,   4, 469,   0,   9,   0,   1,   3,   0,  17],\n",
              "       [  0,   0,   0,   0, 477,   0,   0,   0,   0,   2,  34],\n",
              "       [  1,   0,   0,   8,   0, 437,   1,   0,   1,   2,  45],\n",
              "       [  0,   1,   0,   0,   0,   4, 425,   0,   0,   0,  28],\n",
              "       [  0,   0,   0,   0,   2,   0,   0, 494,   1,   8,   6],\n",
              "       [  0,   2,   0,   0,   0,   4,   0,   1, 417,   8,  46],\n",
              "       [  1,   0,   0,   2,   3,   0,   0,   3,   1, 476,  18],\n",
              "       [ 19,   3,  27,   7,  23,  31,   8,   4,  14,  34, 830]])"
            ]
          },
          "metadata": {
            "tags": []
          },
          "execution_count": 52
        }
      ]
    },
    {
      "cell_type": "markdown",
      "metadata": {
        "id": "EJMAYyILu5Mk"
      },
      "source": [
        "\"letters\" class is extremely complex, hence the error rate on the \"letters\" class is much higher."
      ]
    },
    {
      "cell_type": "code",
      "metadata": {
        "id": "h6xhuNRcA76V",
        "colab": {
          "base_uri": "https://localhost:8080/"
        },
        "outputId": "87ad1186-b351-483a-eacf-4e46144decec"
      },
      "source": [
        "mis_dl = np.sum(cm[:9, -1])\n",
        "mis_ld = np.sum(cm[-1, :9])\n",
        "\n",
        "print(\"fraction of digits mislabeled as letters: \", mis_dl/6000)\n",
        "print(\"fraction of letters mislabeled as digits \", mis_ld/6000)"
      ],
      "execution_count": null,
      "outputs": [
        {
          "output_type": "stream",
          "text": [
            "fraction of digits mislabeled as letters:  0.043166666666666666\n",
            "fraction of letters mislabeled as digits  0.02266666666666667\n"
          ],
          "name": "stdout"
        }
      ]
    },
    {
      "cell_type": "markdown",
      "metadata": {
        "id": "bt4ERZa5A76W"
      },
      "source": [
        "## Selecting gamma and C via Cross-Validation (Using For-Loops)\n",
        "\n",
        "We will try to use 3 values for `C` and `gamma`."
      ]
    },
    {
      "cell_type": "code",
      "metadata": {
        "id": "O0SAjFDdA76X",
        "colab": {
          "base_uri": "https://localhost:8080/"
        },
        "outputId": "cc4d6435-d8da-419b-89db-5379c308ff55"
      },
      "source": [
        "C_test = [0.1,1,10]\n",
        "gam_test = [0.001,0.01,0.1]\n",
        "\n",
        "nC = len(C_test)\n",
        "ngam = len(gam_test)\n",
        "acc = [[0]*ngam]*nC\n",
        "\n",
        "# Measure and print the accuracy for each C and gamma value.  Store the results in acc\n",
        "\n",
        "for i, c in enumerate(C_test):\n",
        "  for j, gamma in enumerate(gam_test):\n",
        "    svc = svm.SVC(C=c, gamma=gamma)\n",
        "    svc.fit(Xtr1, ytr)\n",
        "    y_pred = svc.predict(Xts1)\n",
        "    y_acc = np.mean(yts == y_pred)\n",
        "    acc[i][j] = y_acc\n",
        "    print(\"c = \", c, \" Gamma = \", gamma, \" Acc = \", y_acc)"
      ],
      "execution_count": null,
      "outputs": [
        {
          "output_type": "stream",
          "text": [
            "c =  0.1  Gamma =  0.001  Acc =  0.7788333333333334\n",
            "c =  0.1  Gamma =  0.01  Acc =  0.6048333333333333\n",
            "c =  0.1  Gamma =  0.1  Acc =  0.16666666666666666\n",
            "c =  1  Gamma =  0.001  Acc =  0.8643333333333333\n",
            "c =  1  Gamma =  0.01  Acc =  0.8926666666666667\n",
            "c =  1  Gamma =  0.1  Acc =  0.21383333333333332\n",
            "c =  10  Gamma =  0.001  Acc =  0.8988333333333334\n",
            "c =  10  Gamma =  0.01  Acc =  0.8963333333333333\n",
            "c =  10  Gamma =  0.1  Acc =  0.218\n"
          ],
          "name": "stdout"
        }
      ]
    },
    {
      "cell_type": "markdown",
      "metadata": {
        "id": "jH6xONSkvvCD"
      },
      "source": [
        "**The array is being stored incorrectly. I tried differed ways but to retrain the model was taking time. Hence the logic behind finding the maximum accuracy is correct but it's giving wrong o/p. Sorry for this!**"
      ]
    },
    {
      "cell_type": "code",
      "metadata": {
        "id": "EmXGl0OmA76Z",
        "colab": {
          "base_uri": "https://localhost:8080/"
        },
        "outputId": "4dbcf7c9-9a55-447a-af2d-1371f76879a8"
      },
      "source": [
        "acc = np.array(acc)\n",
        "acc"
      ],
      "execution_count": null,
      "outputs": [
        {
          "output_type": "execute_result",
          "data": {
            "text/plain": [
              "array([[0.89883333, 0.89633333, 0.218     ],\n",
              "       [0.89883333, 0.89633333, 0.218     ],\n",
              "       [0.89883333, 0.89633333, 0.218     ]])"
            ]
          },
          "metadata": {
            "tags": []
          },
          "execution_count": 63
        }
      ]
    },
    {
      "cell_type": "code",
      "metadata": {
        "id": "ji_k2IG5A76b",
        "colab": {
          "base_uri": "https://localhost:8080/"
        },
        "outputId": "2bd65a56-2333-4a51-cc08-3fc5b74d733c"
      },
      "source": [
        "# Maximum accuracy and the corresponding best C and gamma\n",
        "\n",
        "max_loc = np.argmax(acc)\n",
        "max_c = C_test[np.argmax(acc)//nC]\n",
        "max_gam = gam_test[np.argmax(acc)%nC]\n",
        "\n",
        "print(\"Max Accuracy: \", np.max(acc), \" c: \", max_c, \" gamma: \", max_gam)"
      ],
      "execution_count": null,
      "outputs": [
        {
          "output_type": "stream",
          "text": [
            "Max Accuracy:  0.8988333333333334  c:  0.1  gamma:  0.001\n"
          ],
          "name": "stdout"
        }
      ]
    }
  ]
}