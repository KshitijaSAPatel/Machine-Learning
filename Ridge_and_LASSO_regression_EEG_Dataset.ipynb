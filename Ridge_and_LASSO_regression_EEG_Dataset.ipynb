{
  "nbformat": 4,
  "nbformat_minor": 0,
  "metadata": {
    "kernelspec": {
      "display_name": "Python 3",
      "language": "python",
      "name": "python3"
    },
    "language_info": {
      "codemirror_mode": {
        "name": "ipython",
        "version": 3
      },
      "file_extension": ".py",
      "mimetype": "text/x-python",
      "name": "python",
      "nbconvert_exporter": "python",
      "pygments_lexer": "ipython3",
      "version": "3.6.7"
    },
    "colab": {
      "name": "Ridge and LASSO regression - EEG Dataset.ipynb",
      "provenance": []
    }
  },
  "cells": [
    {
      "cell_type": "markdown",
      "metadata": {
        "id": "Gzem-vQ4CfNk"
      },
      "source": [
        "I used LASSO regression on a real EEG dataset to determine the brain region that is active under an auditory stimulus."
      ]
    },
    {
      "cell_type": "code",
      "metadata": {
        "id": "af6BJOaTY2jk"
      },
      "source": [
        "import numpy as np\n",
        "import matplotlib.pyplot as plt\n",
        "import pickle\n",
        "\n",
        "from sklearn.linear_model import Lasso, Ridge, ElasticNet\n",
        "from sklearn.metrics import r2_score\n",
        "from sklearn.model_selection import train_test_split"
      ],
      "execution_count": null,
      "outputs": []
    },
    {
      "cell_type": "markdown",
      "metadata": {
        "id": "T7Iur1cEY2jn"
      },
      "source": [
        "## Load the Data\n",
        "\n",
        "Data source: https://martinos.org/mne/stable/index.html\n"
      ]
    },
    {
      "cell_type": "code",
      "metadata": {
        "id": "HGCntk8kY2jo",
        "colab": {
          "base_uri": "https://localhost:8080/",
          "height": 51
        },
        "outputId": "fa781f6a-247f-401a-a09c-198c6f5d71a0"
      },
      "source": [
        "fn_src ='https://drive.google.com/uc?export=download&id=1RzQpKONOcXSMxH2ZzOI4iVMiTgD6ttSl'\n",
        "fn_dst ='eeg_dat.p'\n",
        "\n",
        "import os\n",
        "from six.moves import urllib\n",
        "\n",
        "if os.path.isfile(fn_dst):\n",
        "    print('File %s is already downloaded' % fn_dst)\n",
        "else:        \n",
        "    print('Fetching file %s [53MB].  This may take a minute..' % fn_dst)\n",
        "    urllib.request.urlretrieve(fn_src, fn_dst)\n",
        "    print('File %s downloaded' % fn_dst)"
      ],
      "execution_count": null,
      "outputs": [
        {
          "output_type": "stream",
          "text": [
            "Fetching file eeg_dat.p [53MB].  This may take a minute..\n",
            "File eeg_dat.p downloaded\n"
          ],
          "name": "stdout"
        }
      ]
    },
    {
      "cell_type": "code",
      "metadata": {
        "id": "tM8X45FPY2jr"
      },
      "source": [
        "import pickle\n",
        "fn = 'eeg_dat.p'\n",
        "with open(fn, 'rb') as fp:\n",
        "    [X,Y] = pickle.load(fp)"
      ],
      "execution_count": null,
      "outputs": []
    },
    {
      "cell_type": "markdown",
      "metadata": {
        "id": "qtFzqE3WY2jt"
      },
      "source": [
        "Key variables:\n",
        "* `nt`    = number of time steps that we measure data\n",
        "* `nchan` = number of channels (i.e. electrodes) measured in each time step\n",
        "* `ncur`  = number of currents in the brain that we want to estimate.  \n",
        "\n",
        "Each current comes from one brain region (called a *voxel*) in either the `x`, `y` or `z` direction.  So,\n",
        "\n",
        "    nvoxels = ncur / 3\n",
        "    \n",
        "The components of the `X` and `Y` matrices :\n",
        "*  `Y[i,k]` = electric field measurement on channel `i` at time `k`\n",
        "*  `X[i,j]` = sensitivity of channel `i` to current `j`.\n",
        "\n"
      ]
    },
    {
      "cell_type": "code",
      "metadata": {
        "id": "065eRPW8Y2ju",
        "colab": {
          "base_uri": "https://localhost:8080/",
          "height": 85
        },
        "outputId": "6fe48f82-4244-4c72-a40f-ed4e701221d5"
      },
      "source": [
        "nt = Y.shape[1]\n",
        "ncur = X.shape[1]\n",
        "nchan = X.shape[0]\n",
        "nvoxels = ncur / 3\n",
        "\n",
        "print(\"Nt : \", nt)\n",
        "print(\"Ncur : \", ncur)\n",
        "print(\"Nchan : \", nchan)\n",
        "print(\"nvoxels : \", nvoxels)"
      ],
      "execution_count": null,
      "outputs": [
        {
          "output_type": "stream",
          "text": [
            "Nt :  85\n",
            "Ncur :  22494\n",
            "Nchan :  305\n",
            "nvoxels :  7498.0\n"
          ],
          "name": "stdout"
        }
      ]
    },
    {
      "cell_type": "markdown",
      "metadata": {
        "id": "gKqkf8K6Y2jx"
      },
      "source": [
        "## Ridge Regression\n",
        "\n",
        "    number of measurements  << number of unknowns\n",
        "    \n",
        "Hence regularization required "
      ]
    },
    {
      "cell_type": "code",
      "metadata": {
        "id": "mUFFi-rpY2jx"
      },
      "source": [
        "Xtr,Xts,Ytr,Yts = train_test_split(X, Y, test_size = 0.33) "
      ],
      "execution_count": null,
      "outputs": []
    },
    {
      "cell_type": "code",
      "metadata": {
        "id": "_ki4pN37Y2j1",
        "colab": {
          "base_uri": "https://localhost:8080/",
          "height": 51
        },
        "outputId": "395eb7e1-4b8c-4062-9f9d-ce7907b9eaa5"
      },
      "source": [
        "reg = Ridge(alpha=1)\n",
        "reg.fit(Xtr, Ytr)"
      ],
      "execution_count": null,
      "outputs": [
        {
          "output_type": "execute_result",
          "data": {
            "text/plain": [
              "Ridge(alpha=1, copy_X=True, fit_intercept=True, max_iter=None, normalize=False,\n",
              "      random_state=None, solver='auto', tol=0.001)"
            ]
          },
          "metadata": {
            "tags": []
          },
          "execution_count": 6
        }
      ]
    },
    {
      "cell_type": "code",
      "metadata": {
        "id": "iDy1DdHmY2j5",
        "colab": {
          "base_uri": "https://localhost:8080/",
          "height": 51
        },
        "outputId": "3f3fb48b-5ffd-4d06-eaba-a8933fbb3fd2"
      },
      "source": [
        "Ytr_pred = reg.predict(Xtr)\n",
        "rsq_tr = r2_score(Ytr, Ytr_pred)\n",
        "\n",
        "Yts_pred = reg.predict(Xts)\n",
        "rsq_ts = r2_score(Yts, Yts_pred)\n",
        "\n",
        "print(\"Normalized test R^2 = %f\" % rsq_tr)\n",
        "print(\"Normalized test R^2 = %f\" % rsq_ts)"
      ],
      "execution_count": null,
      "outputs": [
        {
          "output_type": "stream",
          "text": [
            "Normalized test R^2 = 0.575603\n",
            "Normalized test R^2 = 0.123072\n"
          ],
          "name": "stdout"
        }
      ]
    },
    {
      "cell_type": "markdown",
      "metadata": {
        "id": "6iUcR72dY2j7"
      },
      "source": [
        "`R^2` value is large for the training data, it is very low for the test data.  This suggest that even with regularization, the model is over-fitting the data.\n",
        "We try getting better `R^2` score using different values of `alpha`. "
      ]
    },
    {
      "cell_type": "code",
      "metadata": {
        "id": "g52BQGsRY2j7",
        "colab": {
          "base_uri": "https://localhost:8080/",
          "height": 357
        },
        "outputId": "c4572270-b8ad-46ad-ece9-789e687b287d"
      },
      "source": [
        "alphas = np.logspace(-2,2,20)\n",
        "rsq = []\n",
        "\n",
        "for alpha in alphas:\n",
        "  reg = Ridge(alpha = alpha)\n",
        "  reg.fit(Xtr, Ytr)\n",
        "\n",
        "  Yhat = reg.predict(Xts)\n",
        "  rsq.append(r2_score(Yts, Yhat))\n",
        "\n",
        "for ind in range(0, 20):\n",
        "  print(ind, \" Alpha: %f, RSS: %f\" % (alphas[ind], rsq[ind]))"
      ],
      "execution_count": null,
      "outputs": [
        {
          "output_type": "stream",
          "text": [
            "0  Alpha: 0.010000, RSS: -0.160758\n",
            "1  Alpha: 0.016238, RSS: -0.077923\n",
            "2  Alpha: 0.026367, RSS: -0.007689\n",
            "3  Alpha: 0.042813, RSS: 0.052198\n",
            "4  Alpha: 0.069519, RSS: 0.102316\n",
            "5  Alpha: 0.112884, RSS: 0.140651\n",
            "6  Alpha: 0.183298, RSS: 0.163606\n",
            "7  Alpha: 0.297635, RSS: 0.168883\n",
            "8  Alpha: 0.483293, RSS: 0.157974\n",
            "9  Alpha: 0.784760, RSS: 0.136076\n",
            "10  Alpha: 1.274275, RSS: 0.109713\n",
            "11  Alpha: 2.069138, RSS: 0.084137\n",
            "12  Alpha: 3.359818, RSS: 0.062094\n",
            "13  Alpha: 5.455595, RSS: 0.044213\n",
            "14  Alpha: 8.858668, RSS: 0.030114\n",
            "15  Alpha: 14.384499, RSS: 0.019241\n",
            "16  Alpha: 23.357215, RSS: 0.011105\n",
            "17  Alpha: 37.926902, RSS: 0.005240\n",
            "18  Alpha: 61.584821, RSS: 0.001172\n",
            "19  Alpha: 100.000000, RSS: -0.001556\n"
          ],
          "name": "stdout"
        }
      ]
    },
    {
      "cell_type": "code",
      "metadata": {
        "id": "DSv_a4CIY2kA",
        "colab": {
          "base_uri": "https://localhost:8080/",
          "height": 296
        },
        "outputId": "5479cb17-c39a-4404-c3c1-3ceaa2c32d6a"
      },
      "source": [
        "plt.errorbar(np.log10(alphas), rsq)\n",
        "plt.xlabel('log10(alpha)')\n",
        "plt.ylabel('Test R^2')\n",
        "plt.grid()\n",
        "plt.show()\n",
        "\n",
        "print('Optimal R^2 Ridge:  %f' % np.max(rsq))"
      ],
      "execution_count": null,
      "outputs": [
        {
          "output_type": "display_data",
          "data": {
            "image/png": "[encoded data removed]",
            "text/plain": [
              "<Figure size 432x288 with 1 Axes>"
            ]
          },
          "metadata": {
            "tags": [],
            "needs_background": "light"
          }
        },
        {
          "output_type": "stream",
          "text": [
            "Optimal R^2 Ridge:  0.168883\n"
          ],
          "name": "stdout"
        }
      ]
    },
    {
      "cell_type": "code",
      "metadata": {
        "id": "2RzQGRpKY2kD",
        "colab": {
          "base_uri": "https://localhost:8080/",
          "height": 34
        },
        "outputId": "596c07c2-ecda-4d8e-baca-f1680c94b5fe"
      },
      "source": [
        "optimal_alpha_location = np.argmax(rsq)\n",
        "optimal_alpha = alphas[optimal_alpha_location]\n",
        "\n",
        "reg = Ridge(alpha = optimal_alpha)\n",
        "reg.fit(Xtr, Ytr)\n",
        "\n",
        "W = np.matrix.transpose(reg.coef_)\n",
        "Wrms = np.sqrt(np.sum(np.square((W)),axis=1))\n",
        "print (\"Number of non zero elements in vector Wrms, %d\" % np.count_nonzero(Wrms))"
      ],
      "execution_count": null,
      "outputs": [
        {
          "output_type": "stream",
          "text": [
            "Number of non zero elements in vector Wrms, 22494\n"
          ],
          "name": "stdout"
        }
      ]
    },
    {
      "cell_type": "markdown",
      "metadata": {
        "id": "tp13Uzc5Y2kG"
      },
      "source": [
        "## LASSO Regression\n",
        "\n",
        "We can improve the estimate by imposing sparsity.  We can impose this constraint using LASSO regularization."
      ]
    },
    {
      "cell_type": "code",
      "metadata": {
        "id": "g-Z9pLqKY2kH",
        "colab": {
          "base_uri": "https://localhost:8080/",
          "height": 68
        },
        "outputId": "d83ce433-431b-41ac-c294-67bb4691df97"
      },
      "source": [
        "reg = Lasso(alpha=1e-3, max_iter=100, tol=0.01)\n",
        "reg.fit(Xtr,Ytr)"
      ],
      "execution_count": null,
      "outputs": [
        {
          "output_type": "execute_result",
          "data": {
            "text/plain": [
              "Lasso(alpha=0.001, copy_X=True, fit_intercept=True, max_iter=100,\n",
              "      normalize=False, positive=False, precompute=False, random_state=None,\n",
              "      selection='cyclic', tol=0.01, warm_start=False)"
            ]
          },
          "metadata": {
            "tags": []
          },
          "execution_count": 11
        }
      ]
    },
    {
      "cell_type": "code",
      "metadata": {
        "id": "TviY3F25Y2kJ",
        "colab": {
          "base_uri": "https://localhost:8080/",
          "height": 51
        },
        "outputId": "7181a9ca-6657-42cf-99b3-e74655d7deef"
      },
      "source": [
        "Ytr_pred = reg.predict(Xtr)\n",
        "rsq_tr = r2_score(Ytr, Ytr_pred)\n",
        "\n",
        "Yts_pred = reg.predict(Xts)\n",
        "rsq_ts = r2_score(Yts, Yts_pred)\n",
        "\n",
        "print(\"Normalized test R^2 = %f\" % rsq_tr)\n",
        "print(\"Normalized test R^2 = %f\" % rsq_ts)"
      ],
      "execution_count": null,
      "outputs": [
        {
          "output_type": "stream",
          "text": [
            "Normalized test R^2 = 0.144870\n",
            "Normalized test R^2 = 0.111769\n"
          ],
          "name": "stdout"
        }
      ]
    },
    {
      "cell_type": "markdown",
      "metadata": {
        "id": "7KBVUH25Y2kL"
      },
      "source": [
        "I used cross-validation to find the optimal `alpha`.Also for each `alpha`, the current matrix is stored so that we do not have to re-fit the model."
      ]
    },
    {
      "cell_type": "code",
      "metadata": {
        "id": "TOgJ6qedY2kL",
        "colab": {
          "base_uri": "https://localhost:8080/",
          "height": 102
        },
        "outputId": "bb313d0f-bfc5-4faf-c6d5-ce0b9b3c92df"
      },
      "source": [
        "alphas = np.logspace(-3,-4,5)\n",
        "rsq = []\n",
        "\n",
        "for alpha in alphas:\n",
        "  reg = Lasso(alpha=alpha, max_iter=100, tol=0.01)\n",
        "  reg.fit(Xtr,Ytr)\n",
        "\n",
        "  Yhat = reg.predict(Xts)\n",
        "  rsq.append(r2_score(Yts, Yhat))\n",
        "\n",
        "for ind in range(0, 5):\n",
        "  print(ind, \" Alpha: %f, RSS: %f\" % (alphas[ind], rsq[ind]))"
      ],
      "execution_count": null,
      "outputs": [
        {
          "output_type": "stream",
          "text": [
            "0  Alpha: 0.001000, RSS: 0.111769\n",
            "1  Alpha: 0.000562, RSS: 0.214158\n",
            "2  Alpha: 0.000316, RSS: 0.266817\n",
            "3  Alpha: 0.000178, RSS: 0.290217\n",
            "4  Alpha: 0.000100, RSS: 0.278681\n"
          ],
          "name": "stdout"
        }
      ]
    },
    {
      "cell_type": "code",
      "metadata": {
        "id": "yFVU28E5Y2kN",
        "colab": {
          "base_uri": "https://localhost:8080/",
          "height": 296
        },
        "outputId": "b8fb0162-0a63-4629-c305-6b700af9a490"
      },
      "source": [
        "plt.errorbar(np.log10(alphas), rsq)\n",
        "plt.xlabel('log10(alpha)')\n",
        "plt.ylabel('Test R^2')\n",
        "plt.grid()\n",
        "plt.show()\n",
        "\n",
        "print('Optimal R^2 LASSO:  %f' % np.max(rsq))"
      ],
      "execution_count": null,
      "outputs": [
        {
          "output_type": "display_data",
          "data": {
            "image/png": "[encoded data removed]",
            "text/plain": [
              "<Figure size 432x288 with 1 Axes>"
            ]
          },
          "metadata": {
            "tags": [],
            "needs_background": "light"
          }
        },
        {
          "output_type": "stream",
          "text": [
            "Optimal R^2 LASSO:  0.290217\n"
          ],
          "name": "stdout"
        }
      ]
    },
    {
      "cell_type": "markdown",
      "metadata": {
        "id": "bQdu4ZFAY2kP"
      },
      "source": [
        "The current matrix `W` for the optimal `alpha` is much sparser."
      ]
    },
    {
      "cell_type": "code",
      "metadata": {
        "id": "rv46rH3MY2kP",
        "colab": {
          "base_uri": "https://localhost:8080/",
          "height": 34
        },
        "outputId": "081cf598-7e3f-45d1-c90b-91f9480a5a16"
      },
      "source": [
        "optimal_alpha_location = np.argmax(rsq)\n",
        "optimal_alpha = alphas[optimal_alpha_location]\n",
        "\n",
        "reg = Lasso(alpha=optimal_alpha, max_iter=100, tol=0.01)\n",
        "reg.fit(Xtr, Ytr)\n",
        "\n",
        "W = np.matrix.transpose(reg.coef_)\n",
        "Wrms = np.sqrt(np.sum(np.square((W)),axis=1))\n",
        "print (\"Number of non zero elements in vector Wrms, %d\" % np.count_nonzero(Wrms))"
      ],
      "execution_count": null,
      "outputs": [
        {
          "output_type": "stream",
          "text": [
            "Number of non zero elements in vector Wrms, 527\n"
          ],
          "name": "stdout"
        }
      ]
    }
  ]
}